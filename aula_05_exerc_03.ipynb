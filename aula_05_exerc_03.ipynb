{
 "cells": [
  {
   "cell_type": "markdown",
   "id": "4e7d9018",
   "metadata": {},
   "source": [
    "### Exercício 3: (para casa)\n",
    "\n",
    "Dadas as coordenadas de dois retângulos retilíneos em um plano 2D, retorne a área total coberta pelos dois retângulos.\n",
    "\n",
    "- O primeiro retângulo é definido por seu canto inferior esquerdo (ax1, ay1) e seu canto superior direito (ax2, ay2).\n",
    "\n",
    "- O segundo retângulo é definido por seu canto inferior esquerdo (bx1, by1) e seu canto superior direito (bx2, by2).\n",
    "\n",
    "Exemplo 1:\n",
    "\n",
    "<img src=\"Imagens/rectangle-plane.png\" width=600>\n",
    "\n",
    "**Input:** ax1 = -3, ay1 = 0, ax2 = 3, ay2 = 4, bx1 = 0, by1 = -1, bx2 = 9, by2 = 2\n",
    "\n",
    "**Output:** 45"
   ]
  },
  {
   "cell_type": "code",
   "execution_count": 3,
   "id": "82354534",
   "metadata": {},
   "outputs": [
    {
     "name": "stdout",
     "output_type": "stream",
     "text": [
      "Area Ret_A: 16\n",
      "Area Ret_B: 5\n",
      "Area Ret_Intersecao: 3\n",
      "Area Total: 18\n"
     ]
    }
   ],
   "source": [
    "ax1 = 0\n",
    "ay1 = 0\n",
    "ax2 = 4\n",
    "ay2 = 4\n",
    "bx1 = 2\n",
    "by1 = -2\n",
    "bx2 = 3\n",
    "by2 = 3\n",
    "\n",
    "area_ret_a = abs((ax1 - ax2) * (ay1 - ay2))\n",
    "area_ret_b = abs((bx1 - bx2) * (by1 - by2))\n",
    "\n",
    "\n",
    "#intersecao: (bx1, by1) ou (bx2, by2) deve estar dentro do Retangulo A, caso 01\n",
    "#ou (ax1, ay1) ou (ax2, ay2) deve estar dentro do Retangulo B, caso 02\n",
    "\n",
    "#caso 01\n",
    "intersecao_caso_01_1 = (ax1<=bx1) and (bx1<=ax2) and (ay1<=by1) and (by1<=ay2)\n",
    "intersecao_caso_01_2 = (ax1<=bx2) and (bx2<=ax2) and (ay1<=by2) and (by2<=ay2)\n",
    "\n",
    "#caso 02\n",
    "intersecao_caso_02_1 = (bx1<=ax1) and (ax1<=bx2) and (by1<=ay1) and (ay1<=by2)\n",
    "intersecao_caso_02_2 = (bx1<=ax2) and (ax2<=bx2) and (by1<=ay2) and (ay2<=by2)\n",
    "\n",
    "intersecao = intersecao_caso_01_1 or intersecao_caso_01_2 or intersecao_caso_02_1 or intersecao_caso_02_2\n",
    "\n",
    "if intersecao:\n",
    "    #pontos do retangulo de intersecao ((cx1,cy1),(cx2,cy2)) sao sempre os mais internos\n",
    "    #vale lembrar que os retangulos foram definidos pelo canto inferior esquerdo e depois pelo superior direito\n",
    "    cx1 = max(ax1,bx1)\n",
    "    cy1 = max(ay1,by1)\n",
    "    cx2 = min(ax2,bx2)\n",
    "    cy2 = min(ay2,by2)\n",
    "    area_intersecao = abs((cx1 - cx2) * (cy1 - cy2))\n",
    "else:\n",
    "    area_intersecao = 0\n",
    "    \n",
    "area_total = area_ret_a + area_ret_b - area_intersecao\n",
    "print(f'Area Ret_A: {area_ret_a}')\n",
    "print(f'Area Ret_B: {area_ret_b}')\n",
    "print(f'Area Ret_Intersecao: {area_intersecao}')\n",
    "print(f'Area Total: {area_total}')"
   ]
  }
 ],
 "metadata": {
  "kernelspec": {
   "display_name": "Python 3 (ipykernel)",
   "language": "python",
   "name": "python3"
  },
  "language_info": {
   "codemirror_mode": {
    "name": "ipython",
    "version": 3
   },
   "file_extension": ".py",
   "mimetype": "text/x-python",
   "name": "python",
   "nbconvert_exporter": "python",
   "pygments_lexer": "ipython3",
   "version": "3.9.13"
  }
 },
 "nbformat": 4,
 "nbformat_minor": 5
}
